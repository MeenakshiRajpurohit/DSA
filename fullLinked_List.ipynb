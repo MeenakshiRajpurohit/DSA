{
  "nbformat": 4,
  "nbformat_minor": 0,
  "metadata": {
    "colab": {
      "provenance": [],
      "authorship_tag": "ABX9TyPHrovAS7EyHK7EUTPc6oXy",
      "include_colab_link": true
    },
    "kernelspec": {
      "name": "python3",
      "display_name": "Python 3"
    },
    "language_info": {
      "name": "python"
    }
  },
  "cells": [
    {
      "cell_type": "markdown",
      "metadata": {
        "id": "view-in-github",
        "colab_type": "text"
      },
      "source": [
        "<a href=\"https://colab.research.google.com/github/MeenakshiRajpurohit/DSA/blob/main/fullLinked_List.ipynb\" target=\"_parent\"><img src=\"https://colab.research.google.com/assets/colab-badge.svg\" alt=\"Open In Colab\"/></a>"
      ]
    },
    {
      "cell_type": "code",
      "execution_count": null,
      "metadata": {
        "colab": {
          "base_uri": "https://localhost:8080/"
        },
        "id": "bvr5F-ugdQVV",
        "outputId": "b2cc7384-cc63-4a9a-c35f-05ef6cf1c9b0"
      },
      "outputs": [
        {
          "output_type": "stream",
          "name": "stdout",
          "text": [
            "3-->5-->13-->2-->null\n"
          ]
        }
      ],
      "source": [
        "class Node:\n",
        "  def __init__(self, data):\n",
        "    self.data = data\n",
        "    self.next = None\n",
        "\n",
        "node1 = Node(3)\n",
        "node2 = Node(5)\n",
        "node3 = Node(13)\n",
        "node4 = Node(2)\n",
        "\n",
        "node1.next = node2\n",
        "node2.next = node3\n",
        "node3.next = node4\n",
        "\n",
        "currentNode = node1\n",
        "while currentNode:\n",
        "  print(currentNode.data, end='-->')\n",
        "  currentNode = currentNode.next\n",
        "\n",
        "print('null')"
      ]
    },
    {
      "cell_type": "code",
      "source": [
        "class Node:\n",
        "  def __init__(self,data):\n",
        "    self.data = data\n",
        "    self.next = None\n",
        "\n",
        "node1 = Node(3)\n",
        "node2 = Node(5)\n",
        "node3 = Node(13)\n",
        "node4 = Node(2)\n",
        "\n",
        "node1.next = node2\n",
        "node2.next = node3\n",
        "node3.next = node4\n",
        "\n",
        "currentNode = node1\n",
        "while currentNode:\n",
        "  print(currentNode.data, end = '-->')\n",
        "  currentNode = currentNode.next\n",
        "print('null')\n",
        "\n"
      ],
      "metadata": {
        "colab": {
          "base_uri": "https://localhost:8080/"
        },
        "id": "4C-7eIC0izXh",
        "outputId": "bfa4e4e5-3b3d-44b8-98f2-afb51e07c14f"
      },
      "execution_count": null,
      "outputs": [
        {
          "output_type": "stream",
          "name": "stdout",
          "text": [
            "3-->5-->13-->2-->null\n"
          ]
        }
      ]
    },
    {
      "cell_type": "markdown",
      "source": [
        "#Traversal of a Linked List\n",
        "\n",
        "Traversing a linked list means to go through the linked list by following the links from one node to the next.\n",
        "\n",
        "Traversal of linked lists is typically done to search for a specific node, and read or modify the node's content, remove the node, or insert a node right before or after that node.\n",
        "\n",
        "To traverse a singly linked list, we start with the first node in the list, the head node, and follow that node's next link, and the next node's next link and so on, until the next address is null, like in the animation below:"
      ],
      "metadata": {
        "id": "FBs_IbvGqvsU"
      }
    },
    {
      "cell_type": "code",
      "source": [
        "class Node:\n",
        "  def __init__(self, data):\n",
        "    self.data = data\n",
        "    self.next = None\n",
        "\n",
        "def traverseAndPrint(head):\n",
        "    currentNode = head\n",
        "    while currentNode:\n",
        "      print(currentNode.data, end='-->')\n",
        "      currentNode = currentNode.next\n",
        "    print('null')\n",
        "\n",
        "node1 = Node(7)\n",
        "node2 = Node(11)\n",
        "node3 = Node(3)\n",
        "node4 = Node(2)\n",
        "node5 = Node(9)\n",
        "\n",
        "node1.next = node2\n",
        "node2.next = node3\n",
        "node3.next = node4\n",
        "node4.next = node5\n",
        "\n",
        "traverseAndPrint(node1)"
      ],
      "metadata": {
        "colab": {
          "base_uri": "https://localhost:8080/"
        },
        "id": "fQa5n4gVqxuX",
        "outputId": "758d22da-8d59-403c-e658-1d020b1fd6ad"
      },
      "execution_count": null,
      "outputs": [
        {
          "output_type": "stream",
          "name": "stdout",
          "text": [
            "7-->11-->3-->2-->9-->null\n"
          ]
        }
      ]
    },
    {
      "cell_type": "markdown",
      "source": [
        "Find The Lowest Value in a Linked List\n",
        "\n",
        "Let's find the lowest value in a singly linked list by traversing it and checking each value.\n",
        "\n",
        "Finding the lowest value in a linked list is very similar to how we found the lowest value in an array, except that we need to follow the next link to get to the next node.\n",
        "\n",
        "This is how finding the lowest value in a linked list works in principle:"
      ],
      "metadata": {
        "id": "3yOey5QvtpJs"
      }
    },
    {
      "cell_type": "code",
      "source": [
        "class Node:\n",
        "  def __init__(self,data):\n",
        "    self.data = data\n",
        "    self.next = None\n",
        "def findLowestValue(head):\n",
        "  minValue = head.data\n",
        "  currentNode = head.next\n",
        "  while currentNode:\n",
        "    if currentNode.data < minValue:\n",
        "      minValue = currentNode.data\n",
        "    currentNode = currentNode.next\n",
        "  return minValue\n",
        "\n",
        "node1 = Node(7)\n",
        "node2 = Node(11)\n",
        "node3 = Node(3)\n",
        "node4 = Node(2)\n",
        "node5 = Node(9)\n",
        "\n",
        "node1.next = node2\n",
        "node2.next = node3\n",
        "node3.next = node4\n",
        "node4.next = node5\n",
        "\n",
        "print('The lowest value in the linked list is:', findLowestValue(node1))"
      ],
      "metadata": {
        "colab": {
          "base_uri": "https://localhost:8080/"
        },
        "id": "HGDlTStetOyp",
        "outputId": "974e3e3d-a422-49d9-9204-2f4b06529989"
      },
      "execution_count": null,
      "outputs": [
        {
          "output_type": "stream",
          "name": "stdout",
          "text": [
            "The lowest value in the linked list is: 2\n"
          ]
        }
      ]
    },
    {
      "cell_type": "markdown",
      "source": [
        "#Delete a Node in a Linked List\n",
        "\n",
        "In this case we have the link (or pointer or address) to a node that we want to delete.\n",
        "\n",
        "It is important to connect the nodes on each side of the node before deleting it, so that the linked list is not broken.\n",
        "\n",
        "So before deleting the node, we need to get the next pointer from the previous node, and connect the previous node to the new next node before deleting the node in between.\n",
        "\n",
        "In a singly linked list, like we have here, to get the next pointer from the previous node we actually need traverse the list from the start, because there is no way to go backwards from the node we want to delete.\n",
        "\n",
        "The simulation below shows the node we want to delete, and how the list must be traversed first to connect the list properly before deleting the node without breaking the linked list.\n",
        "Head 7 next 11 next 3 next 2 next 9 next null\n",
        "\n",
        "Also, it is a good idea to first connect next pointer to the node after the node we want to delete, before we delete it. This is to avoid a 'dangling' pointer, a pointer that points to nothing, even if it is just for a brief moment.\n",
        "\n",
        "In the code below, the algorithm to delete a node is moved into a function called deleteSpecificNode."
      ],
      "metadata": {
        "id": "mLoUWwdyy4ti"
      }
    },
    {
      "cell_type": "code",
      "source": [
        "class Node:\n",
        "  def __init__(self,data):\n",
        "    self.data = data\n",
        "    self.next = None\n",
        "\n",
        "def traverseAndPrint(head):\n",
        "  currentNode = head\n",
        "  while currentNode:\n",
        "    print(currentNode.data, end='-->')\n",
        "    currentNode = currentNode.next\n",
        "  print('null')\n",
        "\n",
        "def deleteSpecificNode(head, nodeToDelete):\n",
        "\n",
        "  if head == nodeToDelete:\n",
        "    return head.next\n",
        "\n",
        "\n"
      ],
      "metadata": {
        "id": "hk6MRKDKy8vQ"
      },
      "execution_count": null,
      "outputs": []
    },
    {
      "cell_type": "markdown",
      "source": [
        "https://youtu.be/dqLHTK7RuIo?si=Rzm6AMM1k0J56rre\n"
      ],
      "metadata": {
        "id": "LpRmrn3o8c72"
      }
    },
    {
      "cell_type": "code",
      "source": [
        "#Singly Linked List\n",
        "\n",
        "class SinglyNode:\n",
        "  def __init__(self, val, next=None):\n",
        "    self.val = val\n",
        "    self.next = next\n",
        "\n",
        "  def __str__(self):\n",
        "    return str(self.val)\n",
        "\n"
      ],
      "metadata": {
        "id": "sJ0Uam5y8jHx"
      },
      "execution_count": null,
      "outputs": []
    },
    {
      "cell_type": "code",
      "source": [
        "head = SinglyNode(1)\n",
        "A = SinglyNode(3)\n",
        "B = SinglyNode(4)\n",
        "C = SinglyNode(7)\n",
        "\n",
        "head.next = A\n",
        "A.next = B\n",
        "B.next = C\n",
        "\n",
        "print(head)\n"
      ],
      "metadata": {
        "colab": {
          "base_uri": "https://localhost:8080/"
        },
        "id": "zEd_LQcsCa5x",
        "outputId": "4ff3fff5-2a99-496d-dcb0-671656f4e063"
      },
      "execution_count": null,
      "outputs": [
        {
          "output_type": "stream",
          "name": "stdout",
          "text": [
            "1\n"
          ]
        }
      ]
    },
    {
      "cell_type": "code",
      "source": [
        "#Traverse the list - o(n)\n",
        "\n",
        "curr = head\n",
        "\n",
        "while curr:\n",
        "  print(curr)\n",
        "  curr = curr.next\n",
        "\n"
      ],
      "metadata": {
        "colab": {
          "base_uri": "https://localhost:8080/"
        },
        "id": "oBuGT3qzDMCk",
        "outputId": "c68b8b6c-8ba2-4fec-8b56-063178213624"
      },
      "execution_count": null,
      "outputs": [
        {
          "output_type": "stream",
          "name": "stdout",
          "text": [
            "1\n",
            "3\n",
            "4\n",
            "7\n"
          ]
        }
      ]
    },
    {
      "cell_type": "code",
      "source": [
        "#Display a linked list - o(n)\n",
        "\n",
        "def display(head):\n",
        "  curr = head\n",
        "  elements = []\n",
        "  while curr:\n",
        "    elements.append(str(curr.val))\n",
        "    curr = curr.next\n",
        "  print('->'.join(elements))\n",
        "\n",
        "display(head)"
      ],
      "metadata": {
        "colab": {
          "base_uri": "https://localhost:8080/"
        },
        "id": "az99jsiuDnNv",
        "outputId": "cf014d84-7ea6-4343-8e99-7b803e97976d"
      },
      "execution_count": null,
      "outputs": [
        {
          "output_type": "stream",
          "name": "stdout",
          "text": [
            "1->3->4->7\n"
          ]
        }
      ]
    },
    {
      "cell_type": "code",
      "source": [
        "#Search for node value - o(n)\n",
        "\n",
        "def search(head, val):\n",
        "  curr = head\n",
        "  while curr:\n",
        "    if val == curr.val:\n",
        "      return True\n",
        "    curr = curr.next\n",
        "\n",
        "  return False\n",
        "\n",
        "search(head,7)"
      ],
      "metadata": {
        "colab": {
          "base_uri": "https://localhost:8080/"
        },
        "id": "slDI-6uJF4DN",
        "outputId": "8736d23e-82a8-45d3-ae98-1b63b4b147bf"
      },
      "execution_count": null,
      "outputs": [
        {
          "output_type": "execute_result",
          "data": {
            "text/plain": [
              "True"
            ]
          },
          "metadata": {},
          "execution_count": 55
        }
      ]
    },
    {
      "cell_type": "code",
      "source": [
        "#Doubly Linked List\n",
        "\n",
        "class DoublyNode:\n",
        "  def __init__(self,val, next=None, prev=None):\n",
        "    self.val = val\n",
        "    self.next = next\n",
        "    self.prev = prev\n",
        "\n",
        "  def __str__(self):\n",
        "    return str(self.val)"
      ],
      "metadata": {
        "id": "qBTKBgw_M2-C"
      },
      "execution_count": null,
      "outputs": []
    },
    {
      "cell_type": "code",
      "source": [
        "head = tail = DoublyNode(1)\n",
        "print(head)"
      ],
      "metadata": {
        "colab": {
          "base_uri": "https://localhost:8080/"
        },
        "id": "EbgBvR_sNlAF",
        "outputId": "f2895fee-cca1-4318-871e-fe66ea671c9a"
      },
      "execution_count": null,
      "outputs": [
        {
          "output_type": "stream",
          "name": "stdout",
          "text": [
            "1\n"
          ]
        }
      ]
    },
    {
      "cell_type": "code",
      "source": [
        "#display o(n)\n",
        "\n",
        "def display(head):\n",
        "  curr = head\n",
        "  elements = []\n",
        "  while curr:\n",
        "    elements.append(str(curr.val))\n",
        "    curr = curr.next\n",
        "  print('<->'.join(elements))\n",
        "\n",
        "display(head)"
      ],
      "metadata": {
        "colab": {
          "base_uri": "https://localhost:8080/"
        },
        "id": "TKAMtLQnNv-c",
        "outputId": "807c17b1-bc0e-4f3e-e3ba-2690c34af566"
      },
      "execution_count": null,
      "outputs": [
        {
          "output_type": "stream",
          "name": "stdout",
          "text": [
            "1\n"
          ]
        }
      ]
    },
    {
      "cell_type": "code",
      "source": [
        "#Insert at beginning - o(1)\n",
        "\n",
        "def insert_at_begining(head,tail,val):\n",
        "  new_node = DoublyNode(val, next=head)\n",
        "  head.prev = new_node\n",
        "  return new_node,tail\n",
        "\n",
        "head,tail = insert_at_begining(head,tail,3)\n",
        "display(head)"
      ],
      "metadata": {
        "colab": {
          "base_uri": "https://localhost:8080/"
        },
        "id": "gCiZNjMVOZ11",
        "outputId": "a0af4c9a-af0b-4955-bb52-f67f3de42877"
      },
      "execution_count": null,
      "outputs": [
        {
          "output_type": "stream",
          "name": "stdout",
          "text": [
            "3<->1\n"
          ]
        }
      ]
    },
    {
      "cell_type": "code",
      "source": [
        "#Insert at end - o(1)\n",
        "\n",
        "def insert_at_end(head,tail,val):\n",
        "  new_node = DoublyNode(val, prev=tail)\n",
        "  tail.prev = new_node\n",
        "  return head, new_node\n",
        "\n",
        "head,tail = insert_at_end(head,tail,7)\n",
        "display(head)"
      ],
      "metadata": {
        "colab": {
          "base_uri": "https://localhost:8080/"
        },
        "id": "RDXJUlOaPLSq",
        "outputId": "20324e1d-17ac-447b-eecf-d46bbbdefe16"
      },
      "execution_count": null,
      "outputs": [
        {
          "output_type": "stream",
          "name": "stdout",
          "text": [
            "3<->1\n"
          ]
        }
      ]
    }
  ]
}
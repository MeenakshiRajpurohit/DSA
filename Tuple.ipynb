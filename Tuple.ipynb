{
  "nbformat": 4,
  "nbformat_minor": 0,
  "metadata": {
    "colab": {
      "provenance": [],
      "authorship_tag": "ABX9TyPYJDt5lOzzFnWXzVeMgSzZ",
      "include_colab_link": true
    },
    "kernelspec": {
      "name": "python3",
      "display_name": "Python 3"
    },
    "language_info": {
      "name": "python"
    }
  },
  "cells": [
    {
      "cell_type": "markdown",
      "metadata": {
        "id": "view-in-github",
        "colab_type": "text"
      },
      "source": [
        "<a href=\"https://colab.research.google.com/github/MeenakshiRajpurohit/DSA/blob/main/Tuple.ipynb\" target=\"_parent\"><img src=\"https://colab.research.google.com/assets/colab-badge.svg\" alt=\"Open In Colab\"/></a>"
      ]
    },
    {
      "cell_type": "code",
      "execution_count": null,
      "metadata": {
        "colab": {
          "base_uri": "https://localhost:8080/"
        },
        "id": "9r4q1KiMRHHg",
        "outputId": "e562e749-4920-4493-ab09-268f312c7620"
      },
      "outputs": [
        {
          "output_type": "stream",
          "name": "stdout",
          "text": [
            "('Meena', 'kul', 'ath', 'pur')\n",
            "pur\n",
            "yeahh!!\n",
            "(1, 2, 3, 4, 5)\n",
            "('mee', 2, 5)\n",
            "('A', 'B')\n",
            "1\n",
            "1\n",
            "bro\n",
            "21\n",
            "male\n",
            "bro is here!\n"
          ]
        }
      ],
      "source": [
        "mytuple = (\"Meena\",\"kul\",\"ath\",\"pur\")\n",
        "print(mytuple)\n",
        "print(mytuple[3])\n",
        "\n",
        "if \"Meen\" not in mytuple:\n",
        "  print(\"yeahh!!\")\n",
        "\n",
        "mytuple = (1,2,3,4,5)\n",
        "print(mytuple)\n",
        "\n",
        "mytuple = (\"mee\", 2, 5)\n",
        "print(mytuple)\n",
        "\n",
        "mytuple = \"A\", \"B\"\n",
        "print(mytuple)\n",
        "\n",
        "student = (\"bro\", 21, \"male\")\n",
        "print(student.count(\"bro\"))\n",
        "print(student.index(21))\n",
        "\n",
        "for x in student:\n",
        "  print(x)\n",
        "\n",
        "if \"bro\" in student:\n",
        "  print(\"bro is here!\")"
      ]
    }
  ]
}
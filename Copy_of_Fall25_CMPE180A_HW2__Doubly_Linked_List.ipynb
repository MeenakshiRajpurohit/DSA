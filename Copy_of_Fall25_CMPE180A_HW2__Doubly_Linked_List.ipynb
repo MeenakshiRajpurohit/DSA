{
  "nbformat": 4,
  "nbformat_minor": 0,
  "metadata": {
    "colab": {
      "provenance": [],
      "include_colab_link": true
    },
    "kernelspec": {
      "name": "python3",
      "display_name": "Python 3"
    },
    "language_info": {
      "name": "python"
    }
  },
  "cells": [
    {
      "cell_type": "markdown",
      "metadata": {
        "id": "view-in-github",
        "colab_type": "text"
      },
      "source": [
        "<a href=\"https://colab.research.google.com/github/MeenakshiRajpurohit/DSA/blob/main/Copy_of_Fall25_CMPE180A_HW2__Doubly_Linked_List.ipynb\" target=\"_parent\"><img src=\"https://colab.research.google.com/assets/colab-badge.svg\" alt=\"Open In Colab\"/></a>"
      ]
    },
    {
      "cell_type": "markdown",
      "source": [
        "San Jose State University, CMPE180A Data Structures and Algorithms with Python,\n",
        "\n",
        "08/12/2025\n",
        "#Homework 2: Doubly Linked List (10 points)\n",
        "\n",
        "\n",
        "Name:\n",
        "\n",
        "SJSU ID:\n",
        "\n",
        "Date:"
      ],
      "metadata": {
        "id": "qGfnd6lxsqH9"
      }
    },
    {
      "cell_type": "markdown",
      "source": [
        "**Submission Options:**\n",
        "Submit code and results via Canvas as a notebook or *.py file with screen shots with the results."
      ],
      "metadata": {
        "id": "-0fMAcu9eGGm"
      }
    },
    {
      "cell_type": "markdown",
      "source": [
        "# HW2.1 Create doubly linked list class\n",
        "Create a node class **DataElement**. Create a class **'DList'** to manage a doubly linked list. <br>\n",
        "\n",
        "Include coments in the code to document it.\n",
        "\n",
        "The doubly linked list class **'DList'** contains **'_head'** and **'_tail'** pointers to the head  and the tail nodes  (as attributes). The data node class **DataElement** has attributes **'_fpt'** (forward pointer) and **'_bpt'** (backward pointer) and  **'_data'** will store the value. In the description below, **value** refers to a value of **'_data'** atribute of a node of  **DataElement** object. **'data_element'** represents a **DataElement** node.\n",
        "\n",
        "Create the following class 'methods' (functions) for the class **'DList'**:\n",
        "\n",
        "`__init__(self,value)`  : returns your list class <br>\n",
        "`push_front(self, value)`: adds data_element to the beginning of the list; data_element is a node instantiated by DataElement(value) constructor<br>\n",
        "`pop_front(self)`:  returns a node data_element<br>\n",
        "`push_back(self, value)`: adds data_element to the end of the list; data_element is a node instantiated by DataElement(value) constructor <br>\n",
        "`pop_back(self)`: returns a list node data_element<br>\n",
        "`remove(self, value)`:  removes from the list and returns a node data_element whose value attribute equals value<br>\n",
        "`is_empty(self)`: returns boolean: True if the list is empty or False oterwise<br>\n",
        "`index(self, num)`:  returns the node data_element at the position *num* in the list.\n",
        "Assume 0 is the index of the first element i.e. zero-based indexing<br>\n",
        "`size(self)`:  returns the size (number of nodes) of the list<br>\n",
        "`__iter__(self)`: initializes the iterator <br>\n",
        "`__next__(self)`: iterates forwards through the list and returns node data_element\n",
        "\n",
        "`__remove_pos__ (self, pos)`: member function removing and returning the node at the position pos in the list, based on zero based indexing\n",
        "\n",
        "`__repr(self)__`: print out the list elements using print function\n"
      ],
      "metadata": {
        "id": "Be-9TPYCswmF"
      }
    },
    {
      "cell_type": "markdown",
      "source": [
        "# Implementation of an iterator class for the list class DList\n",
        "NOTE: run this code cell to gain the working iteration over the list\n"
      ],
      "metadata": {
        "id": "bdcCGqOMd4GZ"
      }
    },
    {
      "cell_type": "code",
      "source": [
        "# iterator class for DList\n",
        "class DListIterator:\n",
        "    \"\"\"\n",
        "    DList iterator class.\n",
        "\n",
        "    \"\"\"\n",
        "    def __init__(self, start_node):\n",
        "        self._current_node = start_node\n",
        "\n",
        "    def __iter__(self):\n",
        "        return self\n",
        "\n",
        "    def __next__(self):\n",
        "        if self._current_node is None:\n",
        "            raise StopIteration\n",
        "        else:\n",
        "            data_element = self._current_node\n",
        "            self._current_node = self._current_node._fpt\n",
        "            return data_element\n"
      ],
      "metadata": {
        "id": "5bwc0hJy3Qqf"
      },
      "execution_count": 141,
      "outputs": []
    },
    {
      "cell_type": "markdown",
      "source": [
        "# `DList` and `DataElement` Implementations\n",
        "\n",
        "\n",
        "Run the implementation code of an iterator class below to use the iterator class  `DListIterator`. It has been done for you."
      ],
      "metadata": {
        "id": "EW4KpK16gUSz"
      }
    },
    {
      "cell_type": "code",
      "source": [
        "class DataElement:\n",
        "  \"\"\"\n",
        "  Node class for doubly linked list.\n",
        "  Each node contains data and pointer to next and previous nodes.\n",
        "  \"\"\"\n",
        "\n",
        "  def __init__(self, data):\n",
        "      self._data = data #store the actual value\n",
        "      self._fpt = None #Forward pointer (next node)\n",
        "      self._bpt = None #Backward pointer (previous node)\n",
        "\n",
        "  @property\n",
        "  def value(self):\n",
        "    #allow access like node.value instead of node._data\n",
        "    return self._data\n",
        "\n",
        "  def __repr__(self):\n",
        "      return str(self._data)\n",
        "\n",
        "class DList:\n",
        "  \"\"\"\n",
        "  Doubly linked list class.\n",
        "  Manages nodes with both forward and backward connections.\n",
        "  \"\"\"\n",
        "  def __init__(self):\n",
        "         # Initialize an empty doubly linked list\n",
        "\n",
        "\n",
        "      self._head = None # Points to first node\n",
        "      self._tail = None # Points to last node\n",
        "      self._size = 0  # Keep track of list size\n",
        "\n",
        "\n",
        "  def push_front(self, value):\n",
        "         #Add data_element to the beginning of the list\n",
        "    new_node = DataElement(value) #create a new node\n",
        "\n",
        "    if self._head is None: #check if list is empty\n",
        "      #if empty, new node becomes both head and tail\n",
        "      self._head = new_node\n",
        "      self._tail = new_node\n",
        "    else:\n",
        "      #connect new node to current head\n",
        "      new_node._fpt = self._head # New node points forward to old head\n",
        "      self._head._bpt = new_node #Old head points backward to new node\n",
        "      self._head = new_node #update head to new node\n",
        "    #update size\n",
        "    self._size += 1\n",
        "\n",
        "  def pop_front(self):\n",
        "         # Remove and return data_element from the beginning of the list\n",
        "      #Step 1. check if list is empty\n",
        "      if self._head is None:\n",
        "        return None\n",
        "      # Step 2: Store the node to return\n",
        "\n",
        "      node_to_return = self._head\n",
        "\n",
        "      # Step 3: Check if there's only one node\n",
        "      if self._head == self._tail: #only one node, so list becomes empty\n",
        "        self._head = None\n",
        "        self._tail = None\n",
        "      else:\n",
        "        #step 4: Move head to next node\n",
        "        self._head = self._head._fpt\n",
        "        self._head._bpt = None #Remove the backward connection\n",
        "      # Step 5: Clean up the removed node\n",
        "\n",
        "      node_to_return._fpt = None #Remove the forward connection\n",
        "      node_to_return._bpt = None #Remove the backward connection\n",
        "\n",
        "\n",
        "      self._size -= 1 #Update size\n",
        "      return node_to_return\n",
        "\n",
        "  def push_back(self, value):\n",
        "        # Add data_element to the end of the list\n",
        "      # 1. Create a new node\n",
        "      new_node = DataElement(value)\n",
        "      # 2. Check if list is empty\n",
        "      if self._tail is None: #If empty, new node becomes both head and tail\n",
        "        self._head = new_node\n",
        "        self._tail = new_node\n",
        "      else:\n",
        "        # 3. Connect new node to current tail\n",
        "        self._tail._fpt = new_node #Current tail points forward to new node\n",
        "        new_node._bpt = self._tail #New node points backward to current tail\n",
        "        self._tail = new_node #Update tail to new node\n",
        "\n",
        "        # 4. Update size\n",
        "      self._size += 1\n",
        "\n",
        "  def append(self, value):\n",
        "    self.push_back(value)\n",
        "\n",
        "\n",
        "  def pop_back(self):\n",
        "        # Remove and return data_element from the end of the list\n",
        "  # 1. Check if list is empty\n",
        "      if self._tail is None:\n",
        "          return None\n",
        "  # 2. Store the node to return\n",
        "      node_to_return = self._tail\n",
        "\n",
        "  # 3. Check if there's only one node\n",
        "      if self._head == self._tail: #Only one node, so list becomes empty\n",
        "          self._head = None\n",
        "          self._tail = None\n",
        "      else:\n",
        "          # 4. Move tail to previous node\n",
        "          self._tail = self._tail._bpt\n",
        "          self._tail._fpt = None #Remove the forward connection\n",
        "      # 5. Clean up the removed node\n",
        "\n",
        "      node_to_return._fpt = None #Remove the forward connection\n",
        "      node_to_return._bpt = None #Remove the backward connection\n",
        "\n",
        "      # 6. Update size\n",
        "      self._size -= 1\n",
        "\n",
        "      return node_to_return\n",
        "\n",
        "  def remove(self, value):\n",
        "        # Remove and return data_element from the list\n",
        "    # 1. Start from head and search for the value\n",
        "      current = self._head\n",
        "    # 2. Traverse the list to find the node\n",
        "      while current is not None:\n",
        "        if current._data == value: #found the node to remove\n",
        "   # 3. Handle different cases\n",
        "\n",
        "            if current == self._head and current == self._tail:\n",
        "              #Only one node in list\n",
        "              self._head = None\n",
        "              self._tail = None\n",
        "            elif current == self._head:\n",
        "              #Removing head node\n",
        "              self._head = current._fpt\n",
        "              self._head._bpt = None\n",
        "            elif current == self._tail:\n",
        "              #Removing tail node\n",
        "              self._tail = current._bpt\n",
        "              self._tail._fpt = None\n",
        "            else:\n",
        "              #Removing a node in the middle\n",
        "              current._bpt._fpt = current._fpt\n",
        "              current._fpt._bpt = current._bpt\n",
        "          #4. Clean up the removed node\n",
        "            current._fpt = None\n",
        "            current._bpt = None\n",
        "\n",
        "          #5. update size\n",
        "            self._size -= 1\n",
        "            return current\n",
        "\n",
        "        current = current._fpt #Move to next node\n",
        "      return None #Node with give value not found\n",
        "\n",
        "\n",
        "  def is_empty(self):\n",
        "        # Return True if the list is empty, False otherwise\n",
        "    return self._head is None\n",
        "\n",
        "  def index(self, num):\n",
        "        # Return the data_element at position num in the list (zero-based indexing)\n",
        "          #Step 1: Check if index is valid\n",
        "    if num < 0 or num >= self._size:\n",
        "      return None\n",
        "    #Step 2 : Traverse to the specified position\n",
        "    current = self._head\n",
        "    for i in range(num):\n",
        "        current = current._fpt\n",
        "\n",
        "    return current\n",
        "\n",
        "  def size(self):\n",
        "        # Return the size of the list\n",
        "      return self._size\n",
        "\n",
        "  def remove_pos(self, pos):\n",
        "        # Remove and return the node at position pos in the list(zero-based indexing)\n",
        "   #Step 1: Check if position is valid\n",
        "    if pos < 0 or pos >= self._size:\n",
        "        return None\n",
        "    #Step 2: Find the node at the postion\n",
        "    node_to_remove = self.index(pos)\n",
        "    if node_to_remove is None:\n",
        "        return None\n",
        "    #Step 3: Remove the node\n",
        "    if node_to_remove == self._head and node_to_remove == self._tail:\n",
        "      #only one node in list\n",
        "        self._head = None\n",
        "        self._tail = None\n",
        "    elif node_to_remove == self._head:\n",
        "        #Removing head node\n",
        "        self._head = node_to_remove._fpt\n",
        "        self._head._bpt = None\n",
        "    elif node_to_remove == self._tail:\n",
        "      #Removing tail node\n",
        "        self._tail = node_to_remove._bpt\n",
        "        self._tail._fpt = None\n",
        "    else:\n",
        "      #Removing a node in the middle\n",
        "        node_to_remove._bpt._fpt = node_to_remove._fpt\n",
        "        node_to_remove._fpt._bpt = node_to_remove._bpt\n",
        "    #Step 4: Clean up the removed node\n",
        "    node_to_remove._fpt = None\n",
        "    node_to_remove._bpt = None\n",
        "\n",
        "    #Step 5: Update size\n",
        "    self._size -= 1\n",
        "    return node_to_remove\n",
        "\n",
        "\n",
        "\n",
        "  def next(self):\n",
        "        # Iterate forwards through the list and return each data_element\n",
        "        # write your won implementation\n",
        "        #Generator function to iterate through the list\n",
        "        current = self._head\n",
        "        while current is not None:\n",
        "            yield current\n",
        "            current = current._fpt\n",
        "\n",
        "  def __iter__(self):\n",
        "\n",
        "        # DListIterator class has been implemented for you\n",
        "        return DListIterator(self._head)\n",
        "\n",
        "  def __str__(self):\n",
        "      #String representation of the list\n",
        "        return self.__repr__()\n",
        "\n",
        "  def __repr__(self):\n",
        "        # Return a string representation of the list\n",
        "    if self._head is None:\n",
        "        return \"DList: []\"\n",
        "    # Build string representation\n",
        "    result = \"DList: [\"\n",
        "    current = self._head\n",
        "    while current is not None:\n",
        "        result += str(current._data)\n",
        "        if current._fpt is not None:\n",
        "            result += \"<--> \"\n",
        "        current = current._fpt\n",
        "    result += \"]\"\n",
        "    return result\n",
        "\n",
        "\n",
        "# Example usage of the DList class\n",
        "\n",
        "# NOTE: run this code to test your code\n",
        "if __name__ == \"__main__\":\n",
        "    d_list = DList()\n",
        "    #print(\"Testing DList Implementation\")\n",
        "\n",
        "    # Adding elements to the list\n",
        "    d_list.push_back(1)\n",
        "    d_list.push_back(2)\n",
        "    d_list.push_back(3)\n",
        "    d_list.push_front(0)\n",
        "\n",
        "    # Accessing elements using index\n",
        "    print(d_list.index(0))  # Output: 0\n",
        "    print(d_list.index(2))  # Output: 3\n",
        "    print(d_list.index(4))  # Output: None\n",
        "\n",
        "    # Removing elements from the list\n",
        "    print(d_list.pop_front())  # Output: 0\n",
        "    print(d_list.pop_back())   # Output: 3\n",
        "\n",
        "    # Iterating through the list\n",
        "    for data_element in d_list.next():\n",
        "        print(data_element._data)\n",
        "    # Output: 1, 2\n",
        "\n",
        "    # Iterating through the list\n",
        "    for data_element in d_list:\n",
        "        print(data_element._data)\n"
      ],
      "metadata": {
        "colab": {
          "base_uri": "https://localhost:8080/"
        },
        "id": "s04EaIx42org",
        "outputId": "9a42b414-4dd1-48a8-98ae-c865a1ce8573"
      },
      "execution_count": 142,
      "outputs": [
        {
          "output_type": "stream",
          "name": "stdout",
          "text": [
            "0\n",
            "2\n",
            "None\n",
            "0\n",
            "3\n",
            "1\n",
            "2\n",
            "1\n",
            "2\n"
          ]
        }
      ]
    },
    {
      "cell_type": "markdown",
      "source": [
        "Expected output:\n",
        "\n",
        "0\n",
        "\n",
        "2\n",
        "\n",
        "None\n",
        "\n",
        "0\n",
        "\n",
        "3\n",
        "\n",
        "1\n",
        "\n",
        "2\n",
        "\n",
        "1\n",
        "\n",
        "2\n"
      ],
      "metadata": {
        "id": "PqguAapNf3ZE"
      }
    },
    {
      "cell_type": "code",
      "source": [
        "# write additional lines to test some other member functions:\n",
        "## TODO\n",
        "#Create a fresh list for testing\n",
        "test_list = DList()\n",
        "\n",
        "#Test 1: is_empty() function\n",
        "print(f\"1. Is the list empty? {test_list.is_empty()}\")\n",
        "\n",
        "#Add some elements\n",
        "test_list.push_back(10)\n",
        "test_list.push_back(20)\n",
        "test_list.push_back(30)\n",
        "test_list.push_back(40)\n",
        "print(f\"After adding elements, Is the list empty? {test_list.is_empty()}\")\n",
        "\n",
        "#Test 2: size() function\n",
        "print(f\"2. Size of the list: {test_list.size()}\")\n",
        "\n",
        "#Test 3. remove() function\n",
        "print(f\"3. List before removing elements: {test_list}\")\n",
        "removed_node = test_list.remove(20)\n",
        "print(f\"Removed node with value 20: {removed_node}\")\n",
        "print(f\"List after removing 20: {test_list}\")\n",
        "print(f\"Size after removing 20: {test_list.size()}\")\n",
        "\n",
        "#Test removing non-existent value\n",
        "removed_none = test_list.remove(99)\n",
        "print(f\"Removed node with value 99: {removed_none}\")\n",
        "\n",
        "#Test 4: remove_pos() function\n",
        "print(f\"4. List before removing position 2: {test_list}\")\n",
        "removed_node_pos = test_list.remove_pos(1)\n",
        "print(f\"Removed node at position 1: {removed_node_pos}\")\n",
        "print(f\"List after removing position 1: {test_list}\")\n",
        "print(f\"Size after removing position 1: {test_list.size()}\")\n",
        "\n",
        "#Test removing invalid position\n",
        "removed_none_pos = test_list.remove_pos(10)\n",
        "print(f\"Removed node at position 10: {removed_none_pos}\")\n",
        "\n",
        "# Test 5: More index() tests\n",
        "print(f\"5. Element at index 0: {test_list.index(0)}\")  # Should be 10\n",
        "print(f\"   Element at index 1: {test_list.index(1)}\")  # Should be 40\n",
        "print(f\"   Element at invalid index -1: {test_list.index(-1)}\")  # Should be None\n",
        "print(f\"   Element at invalid index 5: {test_list.index(5)}\")  # Should be None\n",
        "\n",
        "# Test 6: Edge cases - single element operations\n",
        "single_list = DList()\n",
        "single_list.push_front(100)\n",
        "print(f\"6. Single element list: {single_list}\")\n",
        "print(f\"   Size: {single_list.size()}\")\n",
        "print(f\"   Is empty: {single_list.is_empty()}\")\n",
        "\n",
        "# Remove the single element\n",
        "removed_single = single_list.pop_back()\n",
        "print(f\"   Removed single element: {removed_single}\")\n",
        "print(f\"   List after removal: {single_list}\")\n",
        "print(f\"   Is empty now: {single_list.is_empty()}\")\n",
        "print(f\"   Size now: {single_list.size()}\")\n",
        "\n",
        "# Test 7: Test all operations on empty list\n",
        "empty_list = DList()\n",
        "print(f\"7. Testing operations on empty list:\")\n",
        "print(f\"   pop_front() on empty: {empty_list.pop_front()}\")  # Should be None\n",
        "print(f\"   pop_back() on empty: {empty_list.pop_back()}\")   # Should be None\n",
        "print(f\"   remove(5) on empty: {empty_list.remove(5)}\")     # Should be None\n",
        "print(f\"   index(0) on empty: {empty_list.index(0)}\")       # Should be None\n",
        "print(f\"   size of empty: {empty_list.size()}\")             # Should be 0\n",
        "\n",
        "# Test 8: Test __repr__() method\n",
        "mixed_list = DList()\n",
        "mixed_list.push_back(\"hello\")\n",
        "mixed_list.push_back(42)\n",
        "mixed_list.push_front(\"world\")\n",
        "print(f\"8. Mixed data types list: {mixed_list}\")\n",
        "\n",
        "# Test 9: Large list operations\n",
        "large_list = DList()\n",
        "for i in range(5):\n",
        "    large_list.push_back(i * 10)\n",
        "\n",
        "print(f\"9. Large list: {large_list}\")\n",
        "print(f\"   Middle element (index 2): {large_list.index(2)}\")\n",
        "print(f\"   Removing middle element: {large_list.remove_pos(2)}\")\n",
        "print(f\"   List after middle removal: {large_list}\")\n"
      ],
      "metadata": {
        "id": "msbFgfWef0iq",
        "colab": {
          "base_uri": "https://localhost:8080/"
        },
        "outputId": "ac0aa331-ee03-44e7-ee30-b02d3b9600eb"
      },
      "execution_count": 143,
      "outputs": [
        {
          "output_type": "stream",
          "name": "stdout",
          "text": [
            "1. Is the list empty? True\n",
            "After adding elements, Is the list empty? False\n",
            "2. Size of the list: 4\n",
            "3. List before removing elements: DList: [10<--> 20<--> 30<--> 40]\n",
            "Removed node with value 20: 20\n",
            "List after removing 20: DList: [10<--> 30<--> 40]\n",
            "Size after removing 20: 3\n",
            "Removed node with value 99: None\n",
            "4. List before removing position 2: DList: [10<--> 30<--> 40]\n",
            "Removed node at position 1: 30\n",
            "List after removing position 1: DList: [10<--> 40]\n",
            "Size after removing position 1: 2\n",
            "Removed node at position 10: None\n",
            "5. Element at index 0: 10\n",
            "   Element at index 1: 40\n",
            "   Element at invalid index -1: None\n",
            "   Element at invalid index 5: None\n",
            "6. Single element list: DList: [100]\n",
            "   Size: 1\n",
            "   Is empty: False\n",
            "   Removed single element: 100\n",
            "   List after removal: DList: []\n",
            "   Is empty now: True\n",
            "   Size now: 0\n",
            "7. Testing operations on empty list:\n",
            "   pop_front() on empty: None\n",
            "   pop_back() on empty: None\n",
            "   remove(5) on empty: None\n",
            "   index(0) on empty: None\n",
            "   size of empty: 0\n",
            "8. Mixed data types list: DList: [world<--> hello<--> 42]\n",
            "9. Large list: DList: [0<--> 10<--> 20<--> 30<--> 40]\n",
            "   Middle element (index 2): 20\n",
            "   Removing middle element: 20\n",
            "   List after middle removal: DList: [0<--> 10<--> 30<--> 40]\n"
          ]
        }
      ]
    },
    {
      "cell_type": "markdown",
      "source": [
        "###Iteration examples"
      ],
      "metadata": {
        "id": "aZYbujOwhJfl"
      }
    },
    {
      "cell_type": "code",
      "source": [
        "# Example: Iterating through the list\n",
        "for data_element in d_list.next():\n",
        "  print(data_element._data)\n"
      ],
      "metadata": {
        "colab": {
          "base_uri": "https://localhost:8080/"
        },
        "id": "c0DgcipuPjUL",
        "outputId": "25757898-40b1-44ea-ae9e-132ac6d58334"
      },
      "execution_count": 144,
      "outputs": [
        {
          "output_type": "stream",
          "name": "stdout",
          "text": [
            "1\n",
            "2\n"
          ]
        }
      ]
    },
    {
      "cell_type": "code",
      "source": [
        "# Example: Iterating through the list\n",
        "for data_element in d_list:\n",
        "    print(data_element._data)"
      ],
      "metadata": {
        "colab": {
          "base_uri": "https://localhost:8080/"
        },
        "id": "vMLOn49QPJbp",
        "outputId": "846ead74-b80a-49c3-d0d1-cb5463eea410"
      },
      "execution_count": 145,
      "outputs": [
        {
          "output_type": "stream",
          "name": "stdout",
          "text": [
            "1\n",
            "2\n"
          ]
        }
      ]
    },
    {
      "cell_type": "markdown",
      "source": [
        "# HW2.2 Working with the doubly linked list DList\n",
        "Create an instance `my_list` type `DList`. Write code to push the first 10 numbers (0-9) onto the list `my_list`. Print out the list using a for loop as follows:\n",
        "```\n",
        "for d in my_list:\n",
        "  print(d._data)\n",
        "```\n",
        "Create a second empty list `sec_list`- of the same `DList` class- and copy the first list in reverse order into the second list.\n",
        "\n",
        "Use a for loop to print out the second list.\n",
        "\n",
        "Create a doubly linked list `big_list`(use `DList` constructor to instantiate it) with 100,000 numbers.\n",
        "\n",
        "Create a regular Python list with 100,000 numbers (use: `reg_list`).\n",
        "\n",
        "Write a python **function** to remove the n-th element from the regular Python list `reg_list`, and use it to remove the 5th element from `reg_list`.\n",
        "\n",
        "Calculate the time to remove 20,000 elements from the regular Python list `reg_list`.\n",
        "\n",
        "Calculate the time to remove 20,000 elements from the doubly linked list `big_list`.\n",
        "\n",
        "To mesure execution time use dt.datetime.now() to get the current time with 1 microsecond resolution. You will have to include the needed package as: import datetime as dt. Set one variable e.g. start_time before starting removing 20000 elements from the list, and set a second one e.g. stop_time after removing the elements. Subtract the starting time from the ending time to determine how long the code ran. Example of measuring execution time:\n",
        "```\n",
        "import datetime\n",
        "starttime = datetime.datetime.now()\n",
        "# the  code, whose execution time is being mesured, goes here\n",
        "endtime = datetime.datetime.now()\n",
        "print(endtime-starttime)\n",
        "```\n",
        "\n",
        "\n",
        "\n",
        "You have to use the 'datetime' package for this assignment."
      ],
      "metadata": {
        "id": "Oy48HvsEeRhE"
      }
    },
    {
      "cell_type": "markdown",
      "source": [
        "NOTE:  Use  member function remove_pos(pos), written in HW2.1, to remove elements from DList `big_list`."
      ],
      "metadata": {
        "id": "b1Qufa-GTFVr"
      }
    },
    {
      "cell_type": "code",
      "source": [
        "# HW2.2 code and comments:\n",
        "import datetime as dt\n",
        "import random"
      ],
      "metadata": {
        "id": "W7N2LCMSfiDg"
      },
      "execution_count": 146,
      "outputs": []
    },
    {
      "cell_type": "code",
      "source": [
        "# write needed functions here\n",
        "def remove_from_regular_list( py_list, pos):\n",
        "  \"\"\"\n",
        "  Remove and return the element at postion 'pos' from the regular Python list.\n",
        "  Args:\n",
        "  py_list : The python list to remove from\n",
        "  pos : The position (0-based index) of the element to remove\n",
        "  Returns:\n",
        "  The removed element if successful, Noneif position is invalid\n",
        "  \"\"\"\n",
        "  #Check if postion is valid\n",
        "  if pos < 0 or pos >= len(py_list):\n",
        "    return None\n",
        "\n",
        "  return py_list.pop(pos) #Remove and return the element at the specified position\n"
      ],
      "metadata": {
        "id": "L1qOS6H9fcwL"
      },
      "execution_count": 147,
      "outputs": []
    },
    {
      "cell_type": "code",
      "source": [
        "# HW2.2 code here\n",
        "if __name__ == \"__main__\":\n",
        "\n",
        "  # 1. Create an instance my_list type DList\n",
        "  my_list = DList()\n",
        "\n",
        "  # 2. Write code to push the first 10 numbers (0-9) onto the list my_list\n",
        "  for i in range(10):\n",
        "    my_list.push_back(i)\n",
        "\n",
        "  # 3. Print out the list using for loop\n",
        "  print(\"my_list: \", end=\"\")\n",
        "  values = []\n",
        "  for d in my_list:\n",
        "    values.append(str(d._data))\n",
        "  print(\"--> \".join(values))\n",
        "\n",
        "\n",
        "  # 4. Create a second empty list sec_list and copy the first list in reverse order\n",
        "  sec_list = DList()\n",
        "  # Copy in reverse order by using push_front for each element from my_list\n",
        "  for d in my_list:\n",
        "    sec_list.push_front(d._data)\n",
        "  # 5. Use a for loop to print out the second list\n",
        "  print(\"sec_list: \", end=\"\")\n",
        "  values = []\n",
        "  for d in sec_list:\n",
        "      values.append(str(d._data))\n",
        "  print(\"--> \".join(values))\n",
        "\n",
        "\n",
        "  # 6. Create a doubly linked list big_list with 100,000 numbers\n",
        "  big_list = DList()\n",
        "  for i in range(100000):\n",
        "    big_list.push_back(i)\n",
        "\n",
        "  #7. Create a regular Python list with 100,000 numbers\n",
        "\n",
        "  reg_list = list(range(100000))\n",
        "\n",
        "  # 8. Use the function to remove the 5th element from reg_list\n",
        "  remove_from_regular_list(reg_list, 4) #0-based index, so 4 is the 5th element\n",
        ""
      ],
      "metadata": {
        "id": "SuFfS5CdfjP7",
        "colab": {
          "base_uri": "https://localhost:8080/"
        },
        "outputId": "63c44761-5296-4874-aa02-696738088f76"
      },
      "execution_count": 148,
      "outputs": [
        {
          "output_type": "stream",
          "name": "stdout",
          "text": [
            "my_list: 0--> 1--> 2--> 3--> 4--> 5--> 6--> 7--> 8--> 9\n",
            "sec_list: 9--> 8--> 7--> 6--> 5--> 4--> 3--> 2--> 1--> 0\n"
          ]
        }
      ]
    },
    {
      "cell_type": "code",
      "source": [
        "# 9. Calculate the time to remove 20,000 elements from the regular Python list\n",
        "#We need to alaways remove from position 0 to avoid index error\n",
        "# as the list shrinks each removal\n",
        "\n",
        "start_time_reg = dt.datetime.now()\n",
        "\n",
        "for i in range(20000):\n",
        "    remove_from_regular_list(reg_list, 0) #always remove from position 0\n",
        "stop_time_reg = dt.datetime.now()\n",
        "time_taken_reg = stop_time_reg - start_time_reg\n",
        "print(\"Time taken to remove 20,000 elements from the regular Python list:\", time_taken_reg)\n",
        "\n",
        "\n",
        "# 10. Calculate the time to remove 20,000 elements from the doubly linked list\n",
        "# We need to always remove from position 0 to avoid index errors\n",
        "# as the list shrinks with each removal\n",
        "start_time_dlist = dt.datetime.now()\n",
        "for i in range(20000):\n",
        "   big_list.remove_pos(0)\n",
        "stop_time_dlist = dt.datetime.now()\n",
        "time_taken_dlist = stop_time_dlist - start_time_dlist\n",
        "print(\"Time taken to remove 20,000 elements from the doubly linked list:\", time_taken_dlist)\n"
      ],
      "metadata": {
        "id": "s-3t-amNd3Dl",
        "colab": {
          "base_uri": "https://localhost:8080/"
        },
        "outputId": "8ef806f1-7999-44b0-a309-7e435ca3a3a9"
      },
      "execution_count": 149,
      "outputs": [
        {
          "output_type": "stream",
          "name": "stdout",
          "text": [
            "Time taken to remove 20,000 elements from the regular Python list: 0:00:00.335280\n",
            "Time taken to remove 20,000 elements from the doubly linked list: 0:00:00.013003\n"
          ]
        }
      ]
    },
    {
      "cell_type": "markdown",
      "source": [
        "Illustration of expected result:\n",
        "\n",
        "my_list:\n",
        "0 -> 1 -> 2 -> 3 -> 4 -> 5 -> 6 -> 7 -> 8 -> 9\n",
        "\n",
        "sec_list:\n",
        "9 -> 8 -> 7 -> 6 -> 5 -> 4 -> 3 -> 2 -> 1 -> 0\n",
        "\n",
        "Time taken to remove 20,000 elements from the regular Python list: 0:00:00.276643\n",
        "\n",
        "Time taken to remove 20,000 elements from the doubly linked list: 0:00:00.016062"
      ],
      "metadata": {
        "id": "o_H8N5jLe1RG"
      }
    },
    {
      "cell_type": "markdown",
      "source": [
        "\n",
        "# HW2.3\n",
        "\n",
        "Create an object of class DList (i.e. a doubly linked listlist) called **ml** with **DataElement** (as nodes) containing the values 1 to 12.\n",
        "\n",
        "Create a multiplication table using the following code:\n",
        "\n",
        "```\n",
        "for a in ml:\n",
        "\n",
        "  for b in ml:\n",
        "\n",
        "    print(\"{:4d}\".format(a.value*b.value),end=\"\")\n",
        "\n",
        "  print(\"\")\n",
        "```\n"
      ],
      "metadata": {
        "id": "EeCAZDqAekVG"
      }
    },
    {
      "cell_type": "markdown",
      "source": [
        "Example of expected output:\n",
        "\n",
        "   1   2   3   4   5   6   7   8   9  10  11  12\n",
        "\n",
        "   2   4   6   8  10  12  14  16  18  20  22  24\n",
        "\n",
        "   3   6   9  12  15  18  21  24  27  30  33  36\n",
        "\n",
        "   4   8  12  16  20  24  28  32  36  40  44  48\n",
        "\n",
        "   5  10  15  20  25  30  35  40  45  50  55  60\n",
        "\n",
        "   6  12  18  24  30  36  42  48  54  60  66  72\n",
        "\n",
        "   7  14  21  28  35  42  49  56  63  70  77  84\n",
        "\n",
        "   8  16  24  32  40  48  56  64  72  80  88  96\n",
        "\n",
        "   9  18  27  36  45  54  63  72  81  90  99 108\n",
        "\n",
        "  10  20  30  40  50  60  70  80  90 100 110 120\n",
        "\n",
        "  11  22  33  44  55  66  77  88  99 110 121 132\n",
        "\n",
        "  12  24  36  48  60  72  84  96 108 120 132 144\n"
      ],
      "metadata": {
        "id": "EouEoByThZCv"
      }
    },
    {
      "cell_type": "code",
      "source": [
        "# HW2.3 code and comments:\n",
        "# Add code:\n",
        "\n",
        "ml = DList()\n",
        "for i in range(1, 13):\n",
        "  ml.append(i)\n",
        "\n",
        "\n",
        "# Create a multiplication table using the given code\n",
        "for a in ml:\n",
        "  for b in ml:\n",
        "    print(\"{:4d}\".format(a.value * b.value), end=\"\")\n",
        "  print(\"\")"
      ],
      "metadata": {
        "id": "LbEuXdiwd3dt",
        "colab": {
          "base_uri": "https://localhost:8080/"
        },
        "outputId": "90b79c73-e06b-49ee-86d4-a7aa1bf12250"
      },
      "execution_count": 150,
      "outputs": [
        {
          "output_type": "stream",
          "name": "stdout",
          "text": [
            "   1   2   3   4   5   6   7   8   9  10  11  12\n",
            "   2   4   6   8  10  12  14  16  18  20  22  24\n",
            "   3   6   9  12  15  18  21  24  27  30  33  36\n",
            "   4   8  12  16  20  24  28  32  36  40  44  48\n",
            "   5  10  15  20  25  30  35  40  45  50  55  60\n",
            "   6  12  18  24  30  36  42  48  54  60  66  72\n",
            "   7  14  21  28  35  42  49  56  63  70  77  84\n",
            "   8  16  24  32  40  48  56  64  72  80  88  96\n",
            "   9  18  27  36  45  54  63  72  81  90  99 108\n",
            "  10  20  30  40  50  60  70  80  90 100 110 120\n",
            "  11  22  33  44  55  66  77  88  99 110 121 132\n",
            "  12  24  36  48  60  72  84  96 108 120 132 144\n"
          ]
        }
      ]
    }
  ]
}
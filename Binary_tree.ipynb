{
  "nbformat": 4,
  "nbformat_minor": 0,
  "metadata": {
    "colab": {
      "provenance": [],
      "authorship_tag": "ABX9TyNAL6xMP3x0iCYqE0M3/poQ",
      "include_colab_link": true
    },
    "kernelspec": {
      "name": "python3",
      "display_name": "Python 3"
    },
    "language_info": {
      "name": "python"
    }
  },
  "cells": [
    {
      "cell_type": "markdown",
      "metadata": {
        "id": "view-in-github",
        "colab_type": "text"
      },
      "source": [
        "<a href=\"https://colab.research.google.com/github/MeenakshiRajpurohit/DSA/blob/main/Binary_tree.ipynb\" target=\"_parent\"><img src=\"https://colab.research.google.com/assets/colab-badge.svg\" alt=\"Open In Colab\"/></a>"
      ]
    },
    {
      "cell_type": "code",
      "execution_count": 58,
      "metadata": {
        "id": "tsrz84huc-PY"
      },
      "outputs": [],
      "source": [
        "#Binary Tree\n",
        "class TreeNode:\n",
        "    def __init__(self, val, left = None, right = None):\n",
        "      self.val = val\n",
        "      self.left = left\n",
        "      self.right = right\n",
        "\n",
        "    def __str__(self):\n",
        "      return str(self.val)"
      ]
    },
    {
      "cell_type": "code",
      "source": [
        "#         1\n",
        "#.    2        3\n",
        "    #4    5   10\n",
        "#"
      ],
      "metadata": {
        "id": "mzpFt8lseqv9"
      },
      "execution_count": 59,
      "outputs": []
    },
    {
      "cell_type": "code",
      "source": [
        "A = TreeNode(1)\n",
        "B = TreeNode(2)\n",
        "C = TreeNode(3)\n",
        "D = TreeNode(4)\n",
        "E = TreeNode(5)\n",
        "F = TreeNode(10)\n",
        "\n",
        "A.left = B\n",
        "A.right = C\n",
        "B.left = D\n",
        "B.right = E\n",
        "C.left = F\n",
        "\n",
        "print(A)"
      ],
      "metadata": {
        "colab": {
          "base_uri": "https://localhost:8080/"
        },
        "id": "BHhLR9yMfAVz",
        "outputId": "5636cf3f-5a41-4fe3-b690-0a84127a018a"
      },
      "execution_count": 60,
      "outputs": [
        {
          "output_type": "stream",
          "name": "stdout",
          "text": [
            "1\n"
          ]
        }
      ]
    },
    {
      "cell_type": "markdown",
      "source": [
        "Recursive Pre order Traversal (DFS) Time: Tine - O(n), space: O(n)"
      ],
      "metadata": {
        "id": "GinfCQy7kyW3"
      }
    },
    {
      "cell_type": "code",
      "source": [
        "def pre_order(node):\n",
        "  if not node:\n",
        "    return\n",
        "\n",
        "  print(node)\n",
        "  pre_order(node.left)\n",
        "  pre_order(node.right)\n",
        "\n",
        "pre_order(A)"
      ],
      "metadata": {
        "colab": {
          "base_uri": "https://localhost:8080/"
        },
        "id": "vx-AsyUilCjl",
        "outputId": "6293e18c-3856-4f32-f0bc-79416572bfd4"
      },
      "execution_count": 61,
      "outputs": [
        {
          "output_type": "stream",
          "name": "stdout",
          "text": [
            "1\n",
            "2\n",
            "4\n",
            "5\n",
            "3\n",
            "10\n"
          ]
        }
      ]
    },
    {
      "cell_type": "code",
      "source": [
        "\n",
        "#Recursive In order Traversal (DFS) Time: Tine - O(n), space: O(n)\n",
        "def in_order(node):\n",
        "  if not node:\n",
        "    return\n",
        "\n",
        "  in_order(node.left)\n",
        "  print(node)\n",
        "  in_order(node.right)\n",
        "\n",
        "in_order(A)"
      ],
      "metadata": {
        "colab": {
          "base_uri": "https://localhost:8080/"
        },
        "id": "_CKRuPUrmY76",
        "outputId": "07a7255b-1dc8-459b-ac8f-204f0f96bcd4"
      },
      "execution_count": 62,
      "outputs": [
        {
          "output_type": "stream",
          "name": "stdout",
          "text": [
            "4\n",
            "2\n",
            "5\n",
            "1\n",
            "10\n",
            "3\n"
          ]
        }
      ]
    },
    {
      "cell_type": "code",
      "source": [
        "#Recursive Post order Traversal (DFS) Time: Tine - O(n), space: O(n)\n",
        "def post_order(node):\n",
        "  if not node:\n",
        "    return\n",
        "\n",
        "  post_order(node.left)\n",
        "  post_order(node.right)\n",
        "  print(node)\n",
        "\n",
        "post_order(A)"
      ],
      "metadata": {
        "colab": {
          "base_uri": "https://localhost:8080/"
        },
        "id": "5_X-_ZKfml36",
        "outputId": "5652ad44-20d6-427c-bd9d-59d3cd878a23"
      },
      "execution_count": 63,
      "outputs": [
        {
          "output_type": "stream",
          "name": "stdout",
          "text": [
            "4\n",
            "5\n",
            "2\n",
            "10\n",
            "3\n",
            "1\n"
          ]
        }
      ]
    },
    {
      "cell_type": "code",
      "source": [
        "#Iterative Pre order Traversal Time: - O(n), space: O(n) DFS\n",
        "def pre_order_iterative(node):\n",
        "  stk = [node]\n",
        "\n",
        "  while stk:\n",
        "    node = stk.pop()\n",
        "    print(node)\n",
        "    if node.right: stk.append(node.right)\n",
        "    if node.left: stk.append(node.left)\n",
        "\n",
        "pre_order_iterative(A)\n"
      ],
      "metadata": {
        "colab": {
          "base_uri": "https://localhost:8080/"
        },
        "id": "wTwwKKyZnqwp",
        "outputId": "5892a126-41b4-4515-ec63-ca6f6e7836a2"
      },
      "execution_count": 64,
      "outputs": [
        {
          "output_type": "stream",
          "name": "stdout",
          "text": [
            "1\n",
            "2\n",
            "4\n",
            "5\n",
            "3\n",
            "10\n"
          ]
        }
      ]
    },
    {
      "cell_type": "code",
      "source": [
        "#Level order Traversal (BFS). Time O(n), space: O(n)\n",
        "\n",
        "from collections import deque\n",
        "\n",
        "def level_order(node):\n",
        "  q = deque()\n",
        "  q.append(node)\n",
        "\n",
        "  while q:\n",
        "    node = q.popleft()\n",
        "    print(node)\n",
        "    if node.left: q.append(node.left)\n",
        "    if node.right: q.append(node.right)\n",
        "\n",
        "level_order(A)"
      ],
      "metadata": {
        "colab": {
          "base_uri": "https://localhost:8080/"
        },
        "id": "bCBAOLR9YcLY",
        "outputId": "afd7eb6a-4202-4119-cd91-15e011485aa6"
      },
      "execution_count": 65,
      "outputs": [
        {
          "output_type": "stream",
          "name": "stdout",
          "text": [
            "1\n",
            "2\n",
            "3\n",
            "4\n",
            "5\n",
            "10\n"
          ]
        }
      ]
    },
    {
      "cell_type": "code",
      "source": [
        "#Check if value exists (DFS) Time O(n), space: O(n)\n",
        "def search(node, target):\n",
        "  if not node:\n",
        "    return False\n",
        "\n",
        "  if node.val == target:\n",
        "    return True\n",
        "\n",
        "  return search(node.left, target) or search(node.right, target)\n",
        "\n",
        "search(A, 1)\n",
        "#search(A, 7)"
      ],
      "metadata": {
        "colab": {
          "base_uri": "https://localhost:8080/"
        },
        "id": "t3q0cBFaZajw",
        "outputId": "78cb6924-5345-4dee-f52b-08bcc5e1a7f2"
      },
      "execution_count": 66,
      "outputs": [
        {
          "output_type": "execute_result",
          "data": {
            "text/plain": [
              "True"
            ]
          },
          "metadata": {},
          "execution_count": 66
        }
      ]
    },
    {
      "cell_type": "code",
      "source": [
        "# Binary Search Trees (BSTs)\n",
        "#      5\n",
        "#.  1     8\n",
        "# -1 3.  7. 9"
      ],
      "metadata": {
        "id": "yXDGO0Vvan7g"
      },
      "execution_count": 67,
      "outputs": []
    },
    {
      "cell_type": "code",
      "source": [
        "A2 = TreeNode(5)\n",
        "B2 = TreeNode(1)\n",
        "C2 = TreeNode(8)\n",
        "D2 = TreeNode(-1)\n",
        "E2 = TreeNode(3)\n",
        "F2 = TreeNode(7)\n",
        "G2 = TreeNode(9)\n",
        "\n",
        "A2.left, A2.right = B2, C2\n",
        "B2.left, B2.right = D2, E2\n",
        "C2.left, C2.right = F2, G2\n",
        "\n",
        "print(A2)"
      ],
      "metadata": {
        "colab": {
          "base_uri": "https://localhost:8080/"
        },
        "id": "uvt_A8wrcKlC",
        "outputId": "33e2074a-2cbf-4464-a8d2-ba3ed5f16c82"
      },
      "execution_count": 68,
      "outputs": [
        {
          "output_type": "stream",
          "name": "stdout",
          "text": [
            "5\n"
          ]
        }
      ]
    },
    {
      "cell_type": "code",
      "source": [
        "in_order(A2)"
      ],
      "metadata": {
        "colab": {
          "base_uri": "https://localhost:8080/"
        },
        "id": "40YtgiILcpjl",
        "outputId": "34db3e70-b047-4afe-915b-417f82942619"
      },
      "execution_count": 69,
      "outputs": [
        {
          "output_type": "stream",
          "name": "stdout",
          "text": [
            "-1\n",
            "1\n",
            "3\n",
            "5\n",
            "7\n",
            "8\n",
            "9\n"
          ]
        }
      ]
    },
    {
      "cell_type": "code",
      "source": [
        "#Time: O(logn), Space: O(log n)\n",
        "def search_bst(node, target):\n",
        "  if not node:\n",
        "    return False\n",
        "\n",
        "  if node.val == target:\n",
        "    return True\n",
        "\n",
        "  if target < node.val:\n",
        "    return search_bst(node.left, target)\n",
        "\n",
        "  else:\n",
        "    target > node.val\n",
        "    return search_bst(node.right, target)\n",
        "\n",
        "search_bst(A2, 9)\n",
        "\n"
      ],
      "metadata": {
        "colab": {
          "base_uri": "https://localhost:8080/"
        },
        "id": "tq8Oub4qdA00",
        "outputId": "1ac237cb-7d5e-466c-dbd8-e35408017626"
      },
      "execution_count": 70,
      "outputs": [
        {
          "output_type": "execute_result",
          "data": {
            "text/plain": [
              "True"
            ]
          },
          "metadata": {},
          "execution_count": 70
        }
      ]
    }
  ]
}
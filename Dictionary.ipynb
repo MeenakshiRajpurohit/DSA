{
  "nbformat": 4,
  "nbformat_minor": 0,
  "metadata": {
    "colab": {
      "provenance": [],
      "authorship_tag": "ABX9TyMq17VLWVvXGrzxctVG2XlJ",
      "include_colab_link": true
    },
    "kernelspec": {
      "name": "python3",
      "display_name": "Python 3"
    },
    "language_info": {
      "name": "python"
    }
  },
  "cells": [
    {
      "cell_type": "markdown",
      "metadata": {
        "id": "view-in-github",
        "colab_type": "text"
      },
      "source": [
        "<a href=\"https://colab.research.google.com/github/MeenakshiRajpurohit/DSA/blob/main/Dictionary.ipynb\" target=\"_parent\"><img src=\"https://colab.research.google.com/assets/colab-badge.svg\" alt=\"Open In Colab\"/></a>"
      ]
    },
    {
      "cell_type": "code",
      "execution_count": 21,
      "metadata": {
        "colab": {
          "base_uri": "https://localhost:8080/"
        },
        "id": "-z8ypqyKeXbC",
        "outputId": "ab7e3a5a-e967-4049-fa72-2cb976c264d8"
      },
      "outputs": [
        {
          "output_type": "stream",
          "name": "stdout",
          "text": [
            "None\n",
            "That capital doesn't exist\n",
            "that capital exists\n",
            "{'USA': 'Detroit', 'India': 'New Delhi', 'Russia': 'Moscow'}\n",
            "dict_keys(['USA', 'India', 'Russia'])\n",
            "USA\n",
            "India\n",
            "Russia\n",
            "dict_values(['Detroit', 'New Delhi', 'Moscow'])\n",
            "USA:Detroit\n",
            "India:New Delhi\n",
            "Russia:Moscow\n"
          ]
        }
      ],
      "source": [
        "capitals = {\"USA\":\"Washington DC\",\"India\":\"New Delhi\",\"China\":\"Beijing\",\"Russia\":\"Moscow\",}\n",
        "#print(dir(capitals))\n",
        "print(capitals.get(\"Japan\"))\n",
        "\n",
        "if capitals.get(\"Japan\"):\n",
        "  print(\"That capital exists\")\n",
        "else:\n",
        "  print(\"That capital doesn't exist\")\n",
        "\n",
        "if capitals.get(\"India\"):\n",
        "  print(\"that capital exists\")\n",
        "else:\n",
        "  print(\"that capital does not exist\")\n",
        "\n",
        "capitals.update({\"Germany\":\"Berlin\"})\n",
        "capitals.update({\"USA\":\"Detroit\"})\n",
        "capitals.pop(\"China\")\n",
        "capitals.popitem()\n",
        "print(capitals)\n",
        "\n",
        "keys = capitals.keys()\n",
        "print(keys)\n",
        "\n",
        "for key in capitals.keys():\n",
        "    print(key)\n",
        "\n",
        "values = capitals.values()\n",
        "print(values)\n",
        "\n",
        "for key, value in capitals.items():\n",
        "  print(f\"{key}:{value}\")\n"
      ]
    }
  ]
}